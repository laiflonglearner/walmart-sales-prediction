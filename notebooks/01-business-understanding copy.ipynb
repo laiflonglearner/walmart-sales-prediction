{
 "cells": [
  {
   "cell_type": "markdown",
   "metadata": {},
   "source": [
    "## 1.1 Background"
   ]
  },
  {
   "cell_type": "markdown",
   "metadata": {},
   "source": [
    "### Retail Environment (2010-2013)\n",
    "\n",
    "The period from 2010 to 2013 was marked by a slow but steady recovery from the 2008 financial crisis (GAP TO FILL: article/research about 2008 financial crisis). Consumer confidence was gradually improving, and spending was on the rise, though still cautious. During these years, the retail industry was predominantly driven by in-store sales, as e-commerce was still in its infancy. Retailers like Walmart focused heavily on optimizing their physical stores, improving customer experience, and maintaining competitive pricing.\n",
    "\n",
    "### Walmart's Strategic Focus\n",
    "\n",
    "Walmart continued to dominate the retail sector with its \"Everyday Low Prices\" (EDLP) strategy, which aimed to attract cost-conscious consumers by keeping prices consistently low (GAP TO FILL: research about Walmart strategy & performance during 2008-2013).\n",
    "\n",
    "### Project Scope & Limitation\n",
    "\n",
    "The Walmart sales datasets were obtained from Kaggle and have limited time range starting from 2010 until 2013. The dataset does not include information on the rise of e-commerce, which became more prominent in the following years. So the insights and recommendations derived from this project will be based on the Walmart's sales performance during this period, with a particular emphasis on in-store sales trends and factors affecting consumer behavior."
   ]
  },
  {
   "cell_type": "markdown",
   "metadata": {},
   "source": [
    "Articles & research papers:\n",
    "\n",
    "- [Saxena, Ravindra & Sharma, Arpana. (2011). Everyday low price - A blessing in disguise for Walmart during recession. Int. J. of Business and Globalisation. 7. 409 - 433. 10.1504/IJBG.2011.042749.](https://www.researchgate.net/publication/264823228_Everyday_low_price_-_A_blessing_in_disguise_for_Walmart_during_recession)\n",
    "\n",
    "- Roosenblom, S. (2008, June 6). The Recession, Wal-Mart Style. New York Times. https://www.nytimes.com/2009/06/07/weekinreview/07rosenbloom.html\n",
    "\n",
    "- Atuan, G. (2023, April 2024). Walmart: Primed To Surpass Its Own Recession Performance In The Next Downturn. Seeking Alpha. https://seekingalpha.com/article/4595947-walmart-wmt-primed-surpass-own-recession-performance-in-next-downturn"
   ]
  },
  {
   "cell_type": "markdown",
   "metadata": {},
   "source": [
    "## 1.2 Business Problem"
   ]
  },
  {
   "cell_type": "markdown",
   "metadata": {},
   "source": [
    "## 1.3 Project Objectives \n"
   ]
  },
  {
   "cell_type": "markdown",
   "metadata": {},
   "source": [
    "## 1.4 Signifance"
   ]
  },
  {
   "cell_type": "markdown",
   "metadata": {},
   "source": [
    "## 1.5 Key Business Drivers"
   ]
  }
 ],
 "metadata": {
  "language_info": {
   "name": "python"
  }
 },
 "nbformat": 4,
 "nbformat_minor": 2
}
