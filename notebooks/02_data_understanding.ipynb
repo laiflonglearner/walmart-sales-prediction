{
 "cells": [
  {
   "cell_type": "markdown",
   "metadata": {},
   "source": [
    "<!-- ()\n",
    "\n",
    "1. Mendapatkan insight untuk meingkatkan profit\n",
    "2. Mencari strategi untuk mengurangi cost dan menghindari *future loss*\n",
    "3. Melakukan pemodelan machine learning untuk memprediksi penjualan mingguan -->"
   ]
  },
  {
   "cell_type": "markdown",
   "metadata": {},
   "source": [
    "# 2.1 Data Collection\n",
    "\n",
    "The data comes from Kaggle, covering Walmart sales from 2010-2013. The dataset will be used to analyze and predict Walmart's sales patterns during the 2010-2013 post-recession period, focusing on store performance, promotions, and seasonality."
   ]
  },
  {
   "cell_type": "markdown",
   "metadata": {},
   "source": [
    "## Identify Data Sources\n",
    "\n",
    "The datasets were obtained from several Kaggle repositories, all focusing on Walmart’s sales. Below are the details of the data sources:\n",
    "\n",
    "1. **[Walmart Sales Forecast Datasets](https://www.kaggle.com/datasets/iamprateek/wallmart-sales-forecast-datasets)**\n",
    "\n",
    "   - Date Range: 2010-2013\n",
    "   - Columns:\n",
    "   \n",
    "     | Name          | Description                                                    |\n",
    "     |---------------|----------------------------------------------------------------|\n",
    "     | Store         | Unique ID for each store                                       |\n",
    "     | Date          | Date of sales record                                           |\n",
    "     | Temperature   | Average temperature on the given date (°F)                     |\n",
    "     | Fuel Price    | Price of fuel at the time (USD per gallon)                     |\n",
    "     | MarkDown1-5   | Potential price-related factor (subject to further validation) |\n",
    "     | CPI           | Consumer Price Index                                           |\n",
    "     | Unemployment  | Unemployment rate in the region                                |\n",
    "     | Is_Holiday    | Boolean indicator for whether the date is a holiday            |\n",
    "\n",
    "2. **[Walmart Dataset](https://www.kaggle.com/datasets/yasserh/walmart-dataset)**\n",
    "\n",
    "   - Date Range: 2010-2013\n",
    "   - Columns:\n",
    "   \n",
    "     | Name          | Description                                                    |\n",
    "     |---------------|----------------------------------------------------------------|\n",
    "     | Store         | Unique ID for each store                                       |\n",
    "     | Date          | Date of sales record                                           |\n",
    "     | Weekly_Sales  | Weekly Sales based on the given date (USD)                     |\n",
    "     | Holiday_Flag  | Boolean indicator for whether the date is a holiday            |\n",
    "     | Temperature   | Average temperature on the given date (°F)                     |\n",
    "     | Fuel Price    | Price of fuel at the time (USD per gallon)                     |\n",
    "     | CPI           | Consumer Price Index                                           |\n",
    "\n",
    "### Duplicate Datasets\n",
    "\n",
    "- **[Walmart Dataset (Retail)](https://www.kaggle.com/datasets/rutuspatel/walmart-dataset-retail)**  \n",
    "- **[Walmart Sales Dataset of 45 Stores](https://www.kaggle.com/datasets/varsharam/walmart-sales-dataset-of-45stores)**  \n",
    "- **[Walmart Data Analysis and Forecasting](https://www.kaggle.com/datasets/asahu40/walmart-data-analysis-and-forcasting)**  \n",
    "\n",
    "All three of these datasets are duplicates of the **[Walmart Dataset](https://www.kaggle.com/datasets/yasserh/walmart-dataset)**. These datasets are duplicates, likely due to multiple Kaggle users uploading the same data. Only one of these will be used for analysis to avoid redundancy."
   ]
  },
  {
   "cell_type": "markdown",
   "metadata": {},
   "source": [
    "## Assess Data Structure\n",
    "\n",
    "Each dataset has a similar core structure but with different scopes:\n",
    "\n",
    "- **Common Columns**:\n",
    "  - `Store`: Identifies the Walmart store.\n",
    "  - `Date`: Represents the week of sales.\n",
    "  - **Economic Factors**: `Temperature`, `Fuel Price`, `CPI`, `Unemployment` may influence sales.\n",
    "  - **Holiday Indicators**: `Is_Holiday` and `Holiday_Flag` columns indicate whether sales occur during holiday periods.\n",
    "  \n",
    "- **Sales Indicators**:  \n",
    "  - In **Dataset 1**, sales may be indirectly captured by the `MarkDown1-5` columns, potentially indicating promotions or discounts. The exact role of these columns will be analyzed during EDA.\n",
    "  - In **Dataset 2**, weekly sales are explicitly captured in the `Weekly_Sales` column."
   ]
  }
 ],
 "metadata": {
  "kernelspec": {
   "display_name": "Python 3",
   "language": "python",
   "name": "python3"
  },
  "language_info": {
   "codemirror_mode": {
    "name": "ipython",
    "version": 3
   },
   "file_extension": ".py",
   "mimetype": "text/x-python",
   "name": "python",
   "nbconvert_exporter": "python",
   "pygments_lexer": "ipython3",
   "version": "3.8.10"
  }
 },
 "nbformat": 4,
 "nbformat_minor": 2
}
