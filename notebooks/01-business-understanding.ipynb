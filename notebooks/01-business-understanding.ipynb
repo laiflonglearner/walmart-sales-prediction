{
 "cells": [
  {
   "cell_type": "markdown",
   "metadata": {},
   "source": [
    "## 1.1 Background"
   ]
  },
  {
   "cell_type": "markdown",
   "metadata": {},
   "source": [
    "### Retail Environment (2010-2013)\n",
    "The period from 2010 to 2013 was marked by a slow but steady recovery from the 2008 financial crisis. With unemployment peaking at over 9% in 2009, consumers were still cautious about their spending, which shaped retail trends during this time. While consumer confidence was gradually improving, shoppers remained budget-conscious and focused primarily on essential purchases. Retailers like Walmart observed more disciplined shopping behaviors, with consumers sticking to their lists and opting for lower-cost items. Many traded down to private-label groceries, choosing lower grades of meat and other affordable options [1]. This \"recession hierarchy\" of food preferences reflected a frugal mindset, which persisted well into the early 2010s.\n",
    "\n",
    "During these years, the retail industry was predominantly driven by in-store sales, as e-commerce was still in its infancy. Retailers like Walmart focused heavily on optimizing their physical stores, improving customer experience, and maintaining competitive pricing to attract cautious but gradually recovering consumers.\n",
    "\n",
    "### Walmart's Strategic Focus\n",
    "\n",
    "During the economic downturn following the 2008 financial crisis, Walmart’s \"Everyday Low Prices\" (EDLP) strategy played a crucial role in helping the company maintain its dominance in the retail sector. By offering consistently low prices, Walmart attracted budget-conscious consumers, leading to steady growth while many competitors struggled. According to Saxena and Sharma (2011), Walmart's net sales increased by 1.1% to $258 billion in 2009, and its operating income grew by 5.2%, reflecting the success of its value-driven offerings [2].\n",
    "\n",
    "Walmart also adapted its operations by empowering local marketing teams, revamping product lines, and improving inventory management to enhance operational efficiency. The company focused on affordability, especially for essential goods, which helped retain customers and gain market share. Additionally, initiatives like the \"sundown rule\" and expanding services such as in-store pickup reinforced Walmart’s customer-centric approach [2].\n",
    "\n",
    "These strategic efforts allowed Walmart to thrive in a challenging retail environment, where consumer spending remained cautious, and physical stores were the primary focus of retail operations.\n",
    "\n",
    "### Project Scope & Limitation\n",
    "\n",
    "The Walmart sales datasets were obtained from Kaggle and have limited time range starting from 2010 until 2013. The dataset does not include information on the rise of e-commerce, which became more prominent in the following years. So the insights and recommendations derived from this project will be based on the Walmart's sales performance during this period, with a particular emphasis on in-store sales trends and factors affecting consumer behavior."
   ]
  },
  {
   "cell_type": "markdown",
   "metadata": {},
   "source": [
    "[1] Rosenbloom, S. (2009, June 6). The Recession, Wal-Mart Style. New York Times. https://www.nytimes.com/2009/06/07/weekinreview/07rosenbloom.html\n",
    "\n",
    "[2] Saxena, R., & Sharma, A. (2011). Everyday low price – A blessing in disguise for Walmart during recession. International Journal of Business and Globalisation, 7, 409-433. https://www.researchgate.net/publication/264823228_Everyday_low_price_-_A_blessing_in_disguise_for_Walmart_during_recession"
   ]
  },
  {
   "cell_type": "markdown",
   "metadata": {},
   "source": [
    "## 1.2 Business Problem"
   ]
  },
  {
   "cell_type": "markdown",
   "metadata": {},
   "source": [
    "## 1.3 Project Objectives \n"
   ]
  },
  {
   "cell_type": "markdown",
   "metadata": {},
   "source": [
    "## 1.4 Signifance"
   ]
  },
  {
   "cell_type": "markdown",
   "metadata": {},
   "source": [
    "## 1.5 Key Business Drivers"
   ]
  }
 ],
 "metadata": {
  "language_info": {
   "name": "python"
  }
 },
 "nbformat": 4,
 "nbformat_minor": 2
}
