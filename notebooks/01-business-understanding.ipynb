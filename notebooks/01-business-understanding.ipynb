{
 "cells": [
  {
   "cell_type": "markdown",
   "metadata": {},
   "source": [
    "## 1.1 Background"
   ]
  },
  {
   "cell_type": "markdown",
   "metadata": {},
   "source": [
    "### Retail Environment (2010-2013)\n",
    "The period from 2010 to 2013 was marked by a slow but steady recovery from the 2008 financial crisis. With unemployment peaking at over 9% in 2009, consumers were still cautious about their spending, which shaped retail trends during this time. While consumer confidence was gradually improving, shoppers remained budget-conscious and focused primarily on essential purchases. Retailers like Walmart observed more disciplined shopping behaviors, with consumers sticking to their lists and opting for lower-cost items. Many traded down to private-label groceries, choosing lower grades of meat and other affordable options [1]. This \"recession hierarchy\" of food preferences reflected a frugal mindset, which persisted well into the early 2010s.\n",
    "\n",
    "During these years, the retail industry was predominantly driven by in-store sales, as e-commerce was still in its infancy. Retailers like Walmart focused heavily on optimizing their physical stores, improving customer experience, and maintaining competitive pricing to attract cautious but gradually recovering consumers.\n",
    "\n",
    "### Walmart's Strategic Focus\n",
    "\n",
    "During the economic downturn following the 2008 financial crisis, Walmart’s \"Everyday Low Prices\" (EDLP) strategy played a crucial role in helping the company maintain its dominance in the retail sector. By offering consistently low prices, Walmart attracted budget-conscious consumers, leading to steady growth while many competitors struggled. According to Saxena and Sharma (2011), Walmart's net sales increased by 1.1% to $258 billion in 2009, and its operating income grew by 5.2%, reflecting the success of its value-driven offerings [2].\n",
    "\n",
    "Walmart also adapted its operations by empowering local marketing teams, revamping product lines, and improving inventory management to enhance operational efficiency. The company focused on affordability, especially for essential goods, which helped retain customers and gain market share. Additionally, initiatives like the \"sundown rule\" and expanding services such as in-store pickup reinforced Walmart’s customer-centric approach [2].\n",
    "\n",
    "These strategic efforts allowed Walmart to thrive in a challenging retail environment, where consumer spending remained cautious, and physical stores were the primary focus of retail operations.\n",
    "\n",
    "### Project Scope & Limitation\n",
    "\n",
    "The Walmart sales datasets were obtained from Kaggle and have limited time range starting from 2010 until 2013. The dataset does not include information on the rise of e-commerce, which became more prominent in the following years. So the insights and recommendations derived from this project will be based on the Walmart's sales performance during this period, with a particular emphasis on in-store sales trends and factors affecting consumer behavior."
   ]
  },
  {
   "cell_type": "markdown",
   "metadata": {},
   "source": [
    "[1] Rosenbloom, S. (2009, June 6). The Recession, Wal-Mart Style. New York Times. https://www.nytimes.com/2009/06/07/weekinreview/07rosenbloom.html\n",
    "\n",
    "[2] Saxena, R., & Sharma, A. (2011). Everyday low price – A blessing in disguise for Walmart during recession. International Journal of Business and Globalisation, 7, 409-433. https://www.researchgate.net/publication/264823228_Everyday_low_price_-_A_blessing_in_disguise_for_Walmart_during_recession"
   ]
  },
  {
   "cell_type": "markdown",
   "metadata": {},
   "source": [
    "## 1.2 Business Problem"
   ]
  },
  {
   "cell_type": "markdown",
   "metadata": {},
   "source": [
    "Walmart’s \"Everyday Low Prices\" (EDLP) strategy helped the company maintain dominance during the 2010-2013 post-recession period. However, forecasting sales during this time was challenging due to the cautious and unpredictable spending habits of consumers. Inefficiencies in sales predictions led to issues such as overstocking or understocking, which impacted profitability.\n",
    "\n",
    "This project aims to address these sales forecasting challenges by improving prediction accuracy. The focus is on developing a model that captures key trends in consumer behavior during this period, providing better insights into inventory management and reducing potential costs."
   ]
  },
  {
   "cell_type": "markdown",
   "metadata": {},
   "source": [
    "## 1.3 Project Objectives "
   ]
  },
  {
   "cell_type": "markdown",
   "metadata": {},
   "source": [
    "The primary objective of this project is to build a machine learning model that improves the accuracy of Walmart’s weekly sales forecasts during the 2010-2013 post-recession period. This will be achieved by:\n",
    "\n",
    "- **Improving Forecast Accuracy**: Developing and comparing multiple machine learning techniques (e.g., linear regression, decision trees, random forests, etc) to identify the best model for accurate sales predictions.\n",
    "- **Uncovering Sales Patterns**: Analyzing the data to provide insights into trends such as seasonality, promotional impacts, and regional sales performance.\n",
    "- **Reducing Operational Costs**: Using the improved forecasts to help Walmart optimize inventory management, thereby reducing overstocking or understocking issues.\n",
    "- **Delivering Business Insights**: In addition to the predictive model, the project will deliver actionable insights into consumer behavior patterns during the post-recession period, offering Walmart strategies to adapt to future economic shifts.\n",
    "\n",
    "The model’s performance will be evaluated using relevant metrics such as MAE, RMSE, etc to ensure its effectiveness in addressing the business problem."
   ]
  },
  {
   "cell_type": "markdown",
   "metadata": {},
   "source": [
    "## 1.4 Significance"
   ]
  },
  {
   "cell_type": "markdown",
   "metadata": {},
   "source": [
    "The significance of this project lies in its ability to help Walmart optimize its sales forecasting process during the challenging post-recession period of 2010-2013. With consumers still cautious about their spending habits, accurate sales forecasting became crucial to avoid overstocking or understocking. By improving the precision of forecasts, Walmart can better manage inventory, reduce costs, and ensure that its \"Everyday Low Prices\" (EDLP) strategy continues to resonate with budget-conscious shoppers.\n",
    "\n",
    "From a data science perspective, this project demonstrates the application of machine learning techniques to generate actionable insights that can improve operational efficiency. The project’s outcomes, such as identifying sales patterns and trends, could also provide Walmart with a clearer understanding of consumer behavior during the recovery period, driving better strategic decisions in inventory management and marketing."
   ]
  },
  {
   "cell_type": "markdown",
   "metadata": {},
   "source": [
    "## 1.5 Key Business Drivers"
   ]
  },
  {
   "cell_type": "markdown",
   "metadata": {},
   "source": [
    "Several key business drivers impact Walmart’s sales performance and forecasting during the post-recession period:\n",
    "\n",
    "- **Seasonality**: Holidays and special events like Black Friday and Christmas have a significant influence on sales volumes. Understanding these patterns is critical for accurate forecasting.\n",
    "- **Promotions and Discounts**: Walmart's frequent use of promotions, especially tied to the EDLP strategy, affects consumer purchasing behavior. These events can cause spikes in sales, making it essential to account for them when building a predictive model.\n",
    "- **Economic Conditions**: The ongoing recovery from the 2008 financial crisis, including factors such as unemployment rates and consumer confidence, continued to impact shoppers' willingness to spend during this period.\n",
    "- **Product Availability and Assortment**: Changes in product lines or inventory levels could affect sales, especially if Walmart made adjustments in response to local demand or operational challenges.\n",
    "\n",
    "Incorporating these drivers into the project ensures that the forecasting model aligns with the real-world factors that shape Walmart's sales outcomes during the recession recovery."
   ]
  },
  {
   "cell_type": "markdown",
   "metadata": {},
   "source": []
  }
 ],
 "metadata": {
  "language_info": {
   "name": "python"
  }
 },
 "nbformat": 4,
 "nbformat_minor": 2
}
