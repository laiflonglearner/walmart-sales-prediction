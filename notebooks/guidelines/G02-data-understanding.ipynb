{
 "cells": [
  {
   "cell_type": "markdown",
   "metadata": {},
   "source": [
    "## 2.1 Data Collection\n",
    "\n",
    "**Definition**: Describes the process by which the data was obtained, including the source and the format. This section outlines what data is available and whether it meets the requirements of the project.\n",
    "\n",
    "**Purpose**: To provide clarity on where the data comes from and ensure that it is relevant and adequate for the project objectives.\n",
    "\n",
    "**Implementation**:\n",
    "- **Identify Data Source**:\n",
    "  - **Action**: Describe where the dataset was obtained, including details about the source (e.g., Kaggle), the data range (2010-2013), and any relevant context.\n",
    "  - **Deliverable**: Short paragraph about the dataset source and format.\n",
    "  \n",
    "- **Assess Data Structure**:\n",
    "  - **Action**: Outline the structure of the dataset (columns, types, etc.), providing an overview of what kind of information is available (e.g., sales numbers, store locations).\n",
    "  - **Deliverable**: List or summary of dataset columns and their descriptions."
   ]
  },
  {
   "cell_type": "markdown",
   "metadata": {},
   "source": [
    "## 2.2 Data Overview\n",
    "\n",
    "**Definition**: A summary that provides high-level insights into the dataset, such as the number of rows, columns, missing values, and basic statistics.\n",
    "\n",
    "**Purpose**: To give a snapshot of the dataset, highlighting its size and any potential issues that might require further attention (e.g., missing data).\n",
    "\n",
    "**Implementation**:\n",
    "- **Summarize Dataset**:\n",
    "  - **Action**: Use tools like `pandas` to generate summary statistics (mean, median, etc.) and identify the number of records.\n",
    "  - **Deliverable**: Summary statistics (e.g., table with descriptive stats) and total row/column count.\n",
    "  \n",
    "- **Identify Missing Data**:\n",
    "  - **Action**: Perform a check for missing or null values and assess the extent of the issue.\n",
    "  - **Deliverable**: Report highlighting any missing data and the percentage of missing values in each column."
   ]
  },
  {
   "cell_type": "markdown",
   "metadata": {},
   "source": [
    "## 2.3 Data Quality\n",
    "\n",
    "**Definition**: An evaluation of the overall quality of the data, identifying any inconsistencies, inaccuracies, or anomalies. This ensures that the data is suitable for analysis.\n",
    "\n",
    "**Purpose**: To assess whether the dataset is clean, consistent, and reliable for the predictive modeling tasks.\n",
    "\n",
    "**Implementation**:\n",
    "- **Check Data Consistency**:\n",
    "  - **Action**: Look for inconsistencies in the data, such as outliers, duplicate rows, or incorrect data types.\n",
    "  - **Deliverable**: List of potential data quality issues (e.g., outliers, duplicates, wrong data types).\n",
    "\n",
    "- **Handle Missing/Invalid Data**:\n",
    "  - **Action**: Develop a strategy to deal with missing or invalid data (e.g., imputation, removal, filling with averages).\n",
    "  - **Deliverable**: Description of how missing or invalid data will be handled."
   ]
  },
  {
   "cell_type": "markdown",
   "metadata": {},
   "source": [
    "## 2.4 Data Relevance to Business Problem\n",
    "\n",
    "**Definition**: Assessing how the available data aligns with the business problem and project objectives, determining whether the dataset captures the necessary information for solving the problem.\n",
    "\n",
    "**Purpose**: To ensure that the dataset will provide the insights needed to address the business challenges, and identify any potential gaps.\n",
    "\n",
    "**Implementation**:\n",
    "- **Check for Relevant Variables**:\n",
    "  - **Action**: Verify that the dataset includes key variables related to the business problem, such as sales figures, store locations, and promotions.\n",
    "  - **Deliverable**: Table or list matching dataset variables to the project’s objectives.\n",
    "\n",
    "- **Address Data Gaps**:\n",
    "  - **Action**: Identify any data gaps (e.g., missing variables or time periods) that could impact analysis and consider additional data sources if needed."
   ]
  }
 ],
 "metadata": {
  "kernelspec": {
   "display_name": "Python 3",
   "language": "python",
   "name": "python3"
  },
  "language_info": {
   "name": "python",
   "version": "3.8.10"
  }
 },
 "nbformat": 4,
 "nbformat_minor": 2
}
