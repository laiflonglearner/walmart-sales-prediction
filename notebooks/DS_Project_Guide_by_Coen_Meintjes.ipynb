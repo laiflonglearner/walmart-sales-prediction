{
 "cells": [
  {
   "attachments": {},
   "cell_type": "markdown",
   "metadata": {},
   "source": [
    "# Project Notebook\n",
    "---"
   ]
  },
  {
   "attachments": {},
   "cell_type": "markdown",
   "metadata": {},
   "source": [
    "## Project Stages\n",
    "\n",
    "Follow Google's PACE workflow:\n",
    "\n",
    "- Plan\n",
    "- Analyze\n",
    "- Construct\n",
    "- Execute"
   ]
  },
  {
   "attachments": {},
   "cell_type": "markdown",
   "metadata": {},
   "source": [
    "---\n",
    "## 1. Plan"
   ]
  },
  {
   "attachments": {},
   "cell_type": "markdown",
   "metadata": {},
   "source": [
    "### 1.1 Frame the business scenario and problem"
   ]
  },
  {
   "attachments": {},
   "cell_type": "markdown",
   "metadata": {},
   "source": [
    "**Project Context/Scenario |** ---\n",
    "\n",
    "**Project Goal |** ---"
   ]
  },
  {
   "attachments": {},
   "cell_type": "markdown",
   "metadata": {},
   "source": [
    "### 1.2 The Dataset"
   ]
  },
  {
   "attachments": {},
   "cell_type": "markdown",
   "metadata": {},
   "source": [
    "Create / Copy data dictionary into the notebook for reference."
   ]
  },
  {
   "attachments": {},
   "cell_type": "markdown",
   "metadata": {},
   "source": [
    "### 1.3 Reflect on these questions while completing this stage\n"
   ]
  },
  {
   "attachments": {},
   "cell_type": "markdown",
   "metadata": {},
   "source": [
    "\n",
    "- Who are the stakeholders for this project? \n",
    "- What are you trying to solve or accomplish?\n",
    "- What are the initial observations upon exploring the data?\n",
    "- What resources are being used to complete this stage? (Include any links.)\n",
    "- Are there any ethical considerations becoming evident? "
   ]
  },
  {
   "attachments": {},
   "cell_type": "markdown",
   "metadata": {},
   "source": [
    "### 1.4 Initial EDA\n"
   ]
  },
  {
   "attachments": {},
   "cell_type": "markdown",
   "metadata": {},
   "source": [
    "1. Discovery\n",
    "2. Structuring\n",
    "3. Cleaning\n",
    "4. ~~Joining~~\n",
    "5. ~~Validating~~\n",
    "6. ~~Presenting~~"
   ]
  },
  {
   "attachments": {},
   "cell_type": "markdown",
   "metadata": {},
   "source": [
    "---\n",
    "## 2. Analyze"
   ]
  },
  {
   "attachments": {},
   "cell_type": "markdown",
   "metadata": {},
   "source": [
    "Main goal of EDA in the analyze stage is to understand the relationships between variables and visualizations are integral in this section\n",
    "\n",
    "**`Variables of interest should be identified at the start of this stage`**"
   ]
  },
  {
   "attachments": {},
   "cell_type": "markdown",
   "metadata": {},
   "source": [
    "### 2.1 Reflect on these questions while completing this stage\n"
   ]
  },
  {
   "attachments": {},
   "cell_type": "markdown",
   "metadata": {},
   "source": [
    "\n",
    "- What has been observed about the relationships between variables?\n",
    "- What has been observed about the distributions in the data? \n",
    "- What transformations have been made with the data? \n",
    "    - What was the reason for making those decisions?\n",
    "- What resources were used to complete this stage? (Include the links.)\n",
    "- Are there any ethical considerations becoming evident at this stage?"
   ]
  },
  {
   "attachments": {},
   "cell_type": "markdown",
   "metadata": {},
   "source": [
    "### 2.2 Continue EDA"
   ]
  },
  {
   "attachments": {},
   "cell_type": "markdown",
   "metadata": {},
   "source": [
    "1. ~~Discovery~~\n",
    "2. Structuring\n",
    "3. Cleaning\n",
    "4. Joining\n",
    "5. Validating\n",
    "6. Presenting\n",
    "\n",
    "Although data should be thoroughly explored by now the process is iterative and any of the steps may need to be taken again in order to achieve the final project goal."
   ]
  },
  {
   "attachments": {},
   "cell_type": "markdown",
   "metadata": {},
   "source": [
    "#### 2.3 Insights"
   ]
  },
  {
   "attachments": {},
   "cell_type": "markdown",
   "metadata": {},
   "source": [
    "Summarize insights from the analysis that has been done thus far"
   ]
  },
  {
   "attachments": {},
   "cell_type": "markdown",
   "metadata": {},
   "source": [
    "---\n",
    "## 3. Construct"
   ]
  },
  {
   "attachments": {},
   "cell_type": "markdown",
   "metadata": {},
   "source": [
    "- Determine which models are the most appropriate\n",
    "- Construct the models\n",
    "- Confirm model assumptions\n",
    "- Evaluate model results to determine how well models fit the data"
   ]
  },
  {
   "attachments": {},
   "cell_type": "markdown",
   "metadata": {},
   "source": [
    "### 3.1 Reflect on these questions while completing this stage\n"
   ]
  },
  {
   "attachments": {},
   "cell_type": "markdown",
   "metadata": {},
   "source": [
    "- Do you notice anything odd?\n",
    "- Which independent variables were chosen for the model and why?\n",
    "- Are each of the assumptions met?\n",
    "- How well does the model fit the data?\n",
    "- Can it be improved? Is there anything that could be changed about the model?\n",
    "- What resources were used to complete this stage? (Include the links.)\n",
    "- Are there any ethical considerations at this stage?"
   ]
  },
  {
   "attachments": {},
   "cell_type": "markdown",
   "metadata": {},
   "source": [
    "### 3.2 Model Concept\n"
   ]
  },
  {
   "attachments": {},
   "cell_type": "markdown",
   "metadata": {},
   "source": [
    "- Fit a model that predicts the outcome variable using two or more independent variables\n",
    "- Check model assumptions\n",
    "- Evaluate the model"
   ]
  },
  {
   "attachments": {},
   "cell_type": "markdown",
   "metadata": {},
   "source": [
    "#### 3.2.1 Identify the type of prediction task\n"
   ]
  },
  {
   "attachments": {},
   "cell_type": "markdown",
   "metadata": {},
   "source": [
    "#### 3.2.2 Identify the most appropriate model types\n"
   ]
  },
  {
   "attachments": {},
   "cell_type": "markdown",
   "metadata": {},
   "source": [
    "### 3.3 Model Construction\n"
   ]
  },
  {
   "attachments": {},
   "cell_type": "markdown",
   "metadata": {},
   "source": [
    "#### 3.3.1 Model Approach 1 | xxx\n"
   ]
  },
  {
   "attachments": {},
   "cell_type": "markdown",
   "metadata": {},
   "source": [
    "#### 3.3.2 Model Approach 2 | xxx\n"
   ]
  },
  {
   "attachments": {},
   "cell_type": "markdown",
   "metadata": {},
   "source": [
    "---\n",
    "## 4. Execute"
   ]
  },
  {
   "attachments": {},
   "cell_type": "markdown",
   "metadata": {},
   "source": [
    "- Interpret & Evaluate model performance and results using metrics\n",
    "- Prepare results, visualizations, and actionable steps to share with stakeholders"
   ]
  },
  {
   "attachments": {},
   "cell_type": "markdown",
   "metadata": {},
   "source": [
    "### 4.1 Reflect on these questions while completing this stage\n"
   ]
  },
  {
   "attachments": {},
   "cell_type": "markdown",
   "metadata": {},
   "source": [
    "- What key insights emerged from your model(s)?\n",
    "- What business recommendations do you propose based on the models built?\n",
    "- What potential recommendations would you make to your manager/company?\n",
    "- Do you think your model could be improved? Why or why not? How? \n",
    "- What business recommendations do you propose based on the models built? \n",
    "- Given what you know about the data and the models you were using, what other questions could you address for the team? \n",
    "- What resources do you find yourself using as you complete this stage? (Make sure to include the links.)\n",
    "- Do you have any ethical considerations in this stage?"
   ]
  },
  {
   "attachments": {},
   "cell_type": "markdown",
   "metadata": {},
   "source": [
    "### 4.2 Evaluation metrics\n"
   ]
  },
  {
   "attachments": {},
   "cell_type": "markdown",
   "metadata": {},
   "source": [
    "\n",
    "- **AUC** is the area under the ROC curve; it's also considered the probability that the model ranks a random positive example more highly than a random negative example. \n",
    "- **Precision** measures the proportion of data points predicted as True that are actually True, in other words, the proportion of positive predictions that are true positives.\n",
    "- **Recall** measures the proportion of data points that are predicted as True, out of all the data points that are actually True. In other words, it measures the proportion of positives that are correctly classified.\n",
    "- **Accuracy** measures the proportion of data points that are correctly classified.\n",
    "- **F1-score** is an aggregation of precision and recall."
   ]
  },
  {
   "attachments": {},
   "cell_type": "markdown",
   "metadata": {},
   "source": [
    "### 4.3 Summary of model results\n"
   ]
  },
  {
   "attachments": {},
   "cell_type": "markdown",
   "metadata": {},
   "source": [
    "#### 4.3.1 Model Approach 1 | "
   ]
  },
  {
   "attachments": {},
   "cell_type": "markdown",
   "metadata": {},
   "source": [
    "Summary of model 1"
   ]
  },
  {
   "attachments": {},
   "cell_type": "markdown",
   "metadata": {},
   "source": [
    "#### 4.3.2 Model Approach 2 | "
   ]
  },
  {
   "attachments": {},
   "cell_type": "markdown",
   "metadata": {},
   "source": [
    "Summary of model 1"
   ]
  },
  {
   "attachments": {},
   "cell_type": "markdown",
   "metadata": {},
   "source": [
    "### 4.4 Conclusion, Recommendations, Nest Steps \n"
   ]
  },
  {
   "attachments": {},
   "cell_type": "markdown",
   "metadata": {},
   "source": []
  }
 ],
 "metadata": {
  "language_info": {
   "name": "python"
  },
  "orig_nbformat": 4
 },
 "nbformat": 4,
 "nbformat_minor": 2
}
